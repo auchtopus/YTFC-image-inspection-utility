{
 "cells": [
  {
   "cell_type": "code",
   "execution_count": 1,
   "metadata": {},
   "outputs": [],
   "source": [
    "import pandas as pd\n",
    "import numpy as np"
   ]
  },
  {
   "cell_type": "code",
   "execution_count": 3,
   "metadata": {},
   "outputs": [],
   "source": [
    "gt_test = pd.read_csv('../data/ground_truth/dataset_3_gt.csv')"
   ]
  },
  {
   "cell_type": "code",
   "execution_count": 4,
   "metadata": {},
   "outputs": [
    {
     "output_type": "display_data",
     "data": {
      "text/plain": "   Unnamed: 0  Unnamed: 0.1              Filename  \\\n0           0             0      CONN00118770.jpg   \n1           1             1        NHA-659466.jpg   \n2           2             2  barcode-00525812.jpg   \n3           3             3        KIRI-04831.jpg   \n4           4             4  barcode-00617175.jpg   \n5           5             5        NHA-551578.jpg   \n6           6             6  barcode-00687644.jpg   \n7           7             7      CONN00174053.jpg   \n8           8             8           1910130.jpg   \n9           9             9  barcode-01040685.jpg   \n\n                                            Filepath Reproductive Status  \\\n0  /content/Herbarium_Anthony/outliers/CONN001187...                True   \n1  /content/Herbarium_Anthony/outliers/NHA-659466...                 NaN   \n2  /content/Herbarium_Anthony/outliers/barcode-00...                True   \n3  /content/Herbarium_Anthony/outliers/KIRI-04831...                True   \n4  /content/Herbarium_Anthony/outliers/barcode-00...                True   \n5  /content/Herbarium_Anthony/outliers/NHA-551578...                True   \n6  /content/Herbarium_Anthony/outliers/barcode-00...                True   \n7  /content/Herbarium_Anthony/outliers/CONN001740...                 NaN   \n8    /content/Herbarium_Anthony/outliers/1910130.jpg                True   \n9  /content/Herbarium_Anthony/outliers/barcode-01...                 NaN   \n\n  Flowering Status Fruiting Status Budding Status  Scored Scorable  \n0              NaN             NaN            NaN    True     True  \n1              NaN             NaN            NaN    True    False  \n2             True             NaN           True    True     True  \n3             True           False           True    True     True  \n4             True             NaN           True    True     True  \n5             True           False          False    True     True  \n6             True            True            NaN    True     True  \n7              NaN             NaN            NaN    True    False  \n8              NaN             NaN            NaN    True     True  \n9              NaN             NaN            NaN    True    False  ",
      "text/html": "<div>\n<style scoped>\n    .dataframe tbody tr th:only-of-type {\n        vertical-align: middle;\n    }\n\n    .dataframe tbody tr th {\n        vertical-align: top;\n    }\n\n    .dataframe thead th {\n        text-align: right;\n    }\n</style>\n<table border=\"1\" class=\"dataframe\">\n  <thead>\n    <tr style=\"text-align: right;\">\n      <th></th>\n      <th>Unnamed: 0</th>\n      <th>Unnamed: 0.1</th>\n      <th>Filename</th>\n      <th>Filepath</th>\n      <th>Reproductive Status</th>\n      <th>Flowering Status</th>\n      <th>Fruiting Status</th>\n      <th>Budding Status</th>\n      <th>Scored</th>\n      <th>Scorable</th>\n    </tr>\n  </thead>\n  <tbody>\n    <tr>\n      <th>0</th>\n      <td>0</td>\n      <td>0</td>\n      <td>CONN00118770.jpg</td>\n      <td>/content/Herbarium_Anthony/outliers/CONN001187...</td>\n      <td>True</td>\n      <td>NaN</td>\n      <td>NaN</td>\n      <td>NaN</td>\n      <td>True</td>\n      <td>True</td>\n    </tr>\n    <tr>\n      <th>1</th>\n      <td>1</td>\n      <td>1</td>\n      <td>NHA-659466.jpg</td>\n      <td>/content/Herbarium_Anthony/outliers/NHA-659466...</td>\n      <td>NaN</td>\n      <td>NaN</td>\n      <td>NaN</td>\n      <td>NaN</td>\n      <td>True</td>\n      <td>False</td>\n    </tr>\n    <tr>\n      <th>2</th>\n      <td>2</td>\n      <td>2</td>\n      <td>barcode-00525812.jpg</td>\n      <td>/content/Herbarium_Anthony/outliers/barcode-00...</td>\n      <td>True</td>\n      <td>True</td>\n      <td>NaN</td>\n      <td>True</td>\n      <td>True</td>\n      <td>True</td>\n    </tr>\n    <tr>\n      <th>3</th>\n      <td>3</td>\n      <td>3</td>\n      <td>KIRI-04831.jpg</td>\n      <td>/content/Herbarium_Anthony/outliers/KIRI-04831...</td>\n      <td>True</td>\n      <td>True</td>\n      <td>False</td>\n      <td>True</td>\n      <td>True</td>\n      <td>True</td>\n    </tr>\n    <tr>\n      <th>4</th>\n      <td>4</td>\n      <td>4</td>\n      <td>barcode-00617175.jpg</td>\n      <td>/content/Herbarium_Anthony/outliers/barcode-00...</td>\n      <td>True</td>\n      <td>True</td>\n      <td>NaN</td>\n      <td>True</td>\n      <td>True</td>\n      <td>True</td>\n    </tr>\n    <tr>\n      <th>5</th>\n      <td>5</td>\n      <td>5</td>\n      <td>NHA-551578.jpg</td>\n      <td>/content/Herbarium_Anthony/outliers/NHA-551578...</td>\n      <td>True</td>\n      <td>True</td>\n      <td>False</td>\n      <td>False</td>\n      <td>True</td>\n      <td>True</td>\n    </tr>\n    <tr>\n      <th>6</th>\n      <td>6</td>\n      <td>6</td>\n      <td>barcode-00687644.jpg</td>\n      <td>/content/Herbarium_Anthony/outliers/barcode-00...</td>\n      <td>True</td>\n      <td>True</td>\n      <td>True</td>\n      <td>NaN</td>\n      <td>True</td>\n      <td>True</td>\n    </tr>\n    <tr>\n      <th>7</th>\n      <td>7</td>\n      <td>7</td>\n      <td>CONN00174053.jpg</td>\n      <td>/content/Herbarium_Anthony/outliers/CONN001740...</td>\n      <td>NaN</td>\n      <td>NaN</td>\n      <td>NaN</td>\n      <td>NaN</td>\n      <td>True</td>\n      <td>False</td>\n    </tr>\n    <tr>\n      <th>8</th>\n      <td>8</td>\n      <td>8</td>\n      <td>1910130.jpg</td>\n      <td>/content/Herbarium_Anthony/outliers/1910130.jpg</td>\n      <td>True</td>\n      <td>NaN</td>\n      <td>NaN</td>\n      <td>NaN</td>\n      <td>True</td>\n      <td>True</td>\n    </tr>\n    <tr>\n      <th>9</th>\n      <td>9</td>\n      <td>9</td>\n      <td>barcode-01040685.jpg</td>\n      <td>/content/Herbarium_Anthony/outliers/barcode-01...</td>\n      <td>NaN</td>\n      <td>NaN</td>\n      <td>NaN</td>\n      <td>NaN</td>\n      <td>True</td>\n      <td>False</td>\n    </tr>\n  </tbody>\n</table>\n</div>"
     },
     "metadata": {}
    },
    {
     "output_type": "stream",
     "name": "stdout",
     "text": [
      "Unnamed: 0              int64\nUnnamed: 0.1            int64\nFilename               object\nFilepath               object\nReproductive Status    object\nFlowering Status       object\nFruiting Status        object\nBudding Status         object\nScored                   bool\nScorable               object\ndtype: object\n"
     ]
    }
   ],
   "source": [
    "display(gt_test.head(10))\n",
    "print(gt_test.dtypes)"
   ]
  },
  {
   "cell_type": "code",
   "execution_count": 5,
   "metadata": {},
   "outputs": [],
   "source": [
    "pred_test = pd.read_csv('../data/predictions/dataset_3/2020-12-07-dataset_3_classifications.csv')"
   ]
  },
  {
   "cell_type": "code",
   "execution_count": 6,
   "metadata": {},
   "outputs": [
    {
     "output_type": "display_data",
     "data": {
      "text/plain": "                                            Filepath Reproductive Status  \\\n0                                                NaN                 NaN   \n1  /home/ajj38/project/Tony_Herbarium/Data/Croppe...        Reproductive   \n2  /home/ajj38/project/Tony_Herbarium/Data/Croppe...        Reproductive   \n3  /home/ajj38/project/Tony_Herbarium/Data/Croppe...        Reproductive   \n\n   Reproductive Status Confidence Flowering Status  \\\n0                             NaN              NaN   \n1                        0.919117        Flowering   \n2                        0.903219    Not_Flowering   \n3                        0.966994        Flowering   \n\n   Flowering Status Confidence Fruiting Status  Fruiting Status Confidence  \\\n0                          NaN             NaN                         NaN   \n1                     0.969938    Not_Fruiting                    0.985201   \n2                     0.940859    Not_Fruiting                    0.875239   \n3                     0.959004    Not_Fruiting                    0.845124   \n\n  Budding Status  Budding Status Confidence  \n0            NaN                        NaN  \n1        Budding                   0.527187  \n2        Budding                   0.586999  \n3        Budding                   0.928854  ",
      "text/html": "<div>\n<style scoped>\n    .dataframe tbody tr th:only-of-type {\n        vertical-align: middle;\n    }\n\n    .dataframe tbody tr th {\n        vertical-align: top;\n    }\n\n    .dataframe thead th {\n        text-align: right;\n    }\n</style>\n<table border=\"1\" class=\"dataframe\">\n  <thead>\n    <tr style=\"text-align: right;\">\n      <th></th>\n      <th>Filepath</th>\n      <th>Reproductive Status</th>\n      <th>Reproductive Status Confidence</th>\n      <th>Flowering Status</th>\n      <th>Flowering Status Confidence</th>\n      <th>Fruiting Status</th>\n      <th>Fruiting Status Confidence</th>\n      <th>Budding Status</th>\n      <th>Budding Status Confidence</th>\n    </tr>\n  </thead>\n  <tbody>\n    <tr>\n      <th>0</th>\n      <td>NaN</td>\n      <td>NaN</td>\n      <td>NaN</td>\n      <td>NaN</td>\n      <td>NaN</td>\n      <td>NaN</td>\n      <td>NaN</td>\n      <td>NaN</td>\n      <td>NaN</td>\n    </tr>\n    <tr>\n      <th>1</th>\n      <td>/home/ajj38/project/Tony_Herbarium/Data/Croppe...</td>\n      <td>Reproductive</td>\n      <td>0.919117</td>\n      <td>Flowering</td>\n      <td>0.969938</td>\n      <td>Not_Fruiting</td>\n      <td>0.985201</td>\n      <td>Budding</td>\n      <td>0.527187</td>\n    </tr>\n    <tr>\n      <th>2</th>\n      <td>/home/ajj38/project/Tony_Herbarium/Data/Croppe...</td>\n      <td>Reproductive</td>\n      <td>0.903219</td>\n      <td>Not_Flowering</td>\n      <td>0.940859</td>\n      <td>Not_Fruiting</td>\n      <td>0.875239</td>\n      <td>Budding</td>\n      <td>0.586999</td>\n    </tr>\n    <tr>\n      <th>3</th>\n      <td>/home/ajj38/project/Tony_Herbarium/Data/Croppe...</td>\n      <td>Reproductive</td>\n      <td>0.966994</td>\n      <td>Flowering</td>\n      <td>0.959004</td>\n      <td>Not_Fruiting</td>\n      <td>0.845124</td>\n      <td>Budding</td>\n      <td>0.928854</td>\n    </tr>\n  </tbody>\n</table>\n</div>"
     },
     "metadata": {}
    }
   ],
   "source": [
    "display(pred_test.head(4))"
   ]
  },
  {
   "cell_type": "code",
   "execution_count": 7,
   "metadata": {},
   "outputs": [
    {
     "output_type": "display_data",
     "data": {
      "text/plain": "Filepath                           object\nReproductive Status                object\nReproductive Status Confidence    float64\nFlowering Status                   object\nFlowering Status Confidence       float64\nFruiting Status                    object\nFruiting Status Confidence        float64\nBudding Status                     object\nBudding Status Confidence         float64\ndtype: object"
     },
     "metadata": {}
    }
   ],
   "source": [
    "display(pred_test.dtypes)"
   ]
  },
  {
   "cell_type": "code",
   "execution_count": 10,
   "metadata": {},
   "outputs": [
    {
     "output_type": "display_data",
     "data": {
      "text/plain": "   Unnamed: 0  Unnamed: 0.1              Filename  \\\n0           0             0      CONN00118770.jpg   \n1           1             1        NHA-659466.jpg   \n2           2             2  barcode-00525812.jpg   \n3           3             3        KIRI-04831.jpg   \n4           4             4  barcode-00617175.jpg   \n5           5             5        NHA-551578.jpg   \n6           6             6  barcode-00687644.jpg   \n7           7             7      CONN00174053.jpg   \n8           8             8           1910130.jpg   \n9           9             9  barcode-01040685.jpg   \n\n                                            Filepath Reproductive Status  \\\n0  /content/Herbarium_Anthony/outliers/CONN001187...                True   \n1  /content/Herbarium_Anthony/outliers/NHA-659466...                 NaN   \n2  /content/Herbarium_Anthony/outliers/barcode-00...                True   \n3  /content/Herbarium_Anthony/outliers/KIRI-04831...                True   \n4  /content/Herbarium_Anthony/outliers/barcode-00...                True   \n5  /content/Herbarium_Anthony/outliers/NHA-551578...                True   \n6  /content/Herbarium_Anthony/outliers/barcode-00...                True   \n7  /content/Herbarium_Anthony/outliers/CONN001740...                 NaN   \n8    /content/Herbarium_Anthony/outliers/1910130.jpg                True   \n9  /content/Herbarium_Anthony/outliers/barcode-01...                 NaN   \n\n  Flowering Status Fruiting Status Budding Status  Scored Scorable  \n0              NaN             NaN            NaN    True     True  \n1              NaN             NaN            NaN    True    False  \n2             True             NaN           True    True     True  \n3             True           False           True    True     True  \n4             True             NaN           True    True     True  \n5             True           False          False    True     True  \n6             True            True            NaN    True     True  \n7              NaN             NaN            NaN    True    False  \n8              NaN             NaN            NaN    True     True  \n9              NaN             NaN            NaN    True    False  ",
      "text/html": "<div>\n<style scoped>\n    .dataframe tbody tr th:only-of-type {\n        vertical-align: middle;\n    }\n\n    .dataframe tbody tr th {\n        vertical-align: top;\n    }\n\n    .dataframe thead th {\n        text-align: right;\n    }\n</style>\n<table border=\"1\" class=\"dataframe\">\n  <thead>\n    <tr style=\"text-align: right;\">\n      <th></th>\n      <th>Unnamed: 0</th>\n      <th>Unnamed: 0.1</th>\n      <th>Filename</th>\n      <th>Filepath</th>\n      <th>Reproductive Status</th>\n      <th>Flowering Status</th>\n      <th>Fruiting Status</th>\n      <th>Budding Status</th>\n      <th>Scored</th>\n      <th>Scorable</th>\n    </tr>\n  </thead>\n  <tbody>\n    <tr>\n      <th>0</th>\n      <td>0</td>\n      <td>0</td>\n      <td>CONN00118770.jpg</td>\n      <td>/content/Herbarium_Anthony/outliers/CONN001187...</td>\n      <td>True</td>\n      <td>NaN</td>\n      <td>NaN</td>\n      <td>NaN</td>\n      <td>True</td>\n      <td>True</td>\n    </tr>\n    <tr>\n      <th>1</th>\n      <td>1</td>\n      <td>1</td>\n      <td>NHA-659466.jpg</td>\n      <td>/content/Herbarium_Anthony/outliers/NHA-659466...</td>\n      <td>NaN</td>\n      <td>NaN</td>\n      <td>NaN</td>\n      <td>NaN</td>\n      <td>True</td>\n      <td>False</td>\n    </tr>\n    <tr>\n      <th>2</th>\n      <td>2</td>\n      <td>2</td>\n      <td>barcode-00525812.jpg</td>\n      <td>/content/Herbarium_Anthony/outliers/barcode-00...</td>\n      <td>True</td>\n      <td>True</td>\n      <td>NaN</td>\n      <td>True</td>\n      <td>True</td>\n      <td>True</td>\n    </tr>\n    <tr>\n      <th>3</th>\n      <td>3</td>\n      <td>3</td>\n      <td>KIRI-04831.jpg</td>\n      <td>/content/Herbarium_Anthony/outliers/KIRI-04831...</td>\n      <td>True</td>\n      <td>True</td>\n      <td>False</td>\n      <td>True</td>\n      <td>True</td>\n      <td>True</td>\n    </tr>\n    <tr>\n      <th>4</th>\n      <td>4</td>\n      <td>4</td>\n      <td>barcode-00617175.jpg</td>\n      <td>/content/Herbarium_Anthony/outliers/barcode-00...</td>\n      <td>True</td>\n      <td>True</td>\n      <td>NaN</td>\n      <td>True</td>\n      <td>True</td>\n      <td>True</td>\n    </tr>\n    <tr>\n      <th>5</th>\n      <td>5</td>\n      <td>5</td>\n      <td>NHA-551578.jpg</td>\n      <td>/content/Herbarium_Anthony/outliers/NHA-551578...</td>\n      <td>True</td>\n      <td>True</td>\n      <td>False</td>\n      <td>False</td>\n      <td>True</td>\n      <td>True</td>\n    </tr>\n    <tr>\n      <th>6</th>\n      <td>6</td>\n      <td>6</td>\n      <td>barcode-00687644.jpg</td>\n      <td>/content/Herbarium_Anthony/outliers/barcode-00...</td>\n      <td>True</td>\n      <td>True</td>\n      <td>True</td>\n      <td>NaN</td>\n      <td>True</td>\n      <td>True</td>\n    </tr>\n    <tr>\n      <th>7</th>\n      <td>7</td>\n      <td>7</td>\n      <td>CONN00174053.jpg</td>\n      <td>/content/Herbarium_Anthony/outliers/CONN001740...</td>\n      <td>NaN</td>\n      <td>NaN</td>\n      <td>NaN</td>\n      <td>NaN</td>\n      <td>True</td>\n      <td>False</td>\n    </tr>\n    <tr>\n      <th>8</th>\n      <td>8</td>\n      <td>8</td>\n      <td>1910130.jpg</td>\n      <td>/content/Herbarium_Anthony/outliers/1910130.jpg</td>\n      <td>True</td>\n      <td>NaN</td>\n      <td>NaN</td>\n      <td>NaN</td>\n      <td>True</td>\n      <td>True</td>\n    </tr>\n    <tr>\n      <th>9</th>\n      <td>9</td>\n      <td>9</td>\n      <td>barcode-01040685.jpg</td>\n      <td>/content/Herbarium_Anthony/outliers/barcode-01...</td>\n      <td>NaN</td>\n      <td>NaN</td>\n      <td>NaN</td>\n      <td>NaN</td>\n      <td>True</td>\n      <td>False</td>\n    </tr>\n  </tbody>\n</table>\n</div>"
     },
     "metadata": {}
    }
   ],
   "source": [
    "display(gt_test.head(10))"
   ]
  },
  {
   "cell_type": "code",
   "execution_count": 134,
   "metadata": {},
   "outputs": [],
   "source": [
    "import pandas as pd\n",
    "import numpy as np\n",
    "from abc import ABC\n",
    "\n",
    "\n",
    "\"\"\"\n",
    "Each dataset is related to an original master_dataset. One Dataset object can have multiple scorings associated with it, but only one master_dataset. \n",
    "\n",
    "\n",
    "\"\"\"\n",
    "class Dataset:\n",
    "\n",
    "    def __init__(self, label_map: dict = {}):\n",
    "        self.master_df = None\n",
    "\n",
    "        # we will rename every column to these standardized names\n",
    "        self.label_map= {\"catalog_number\":  None, # this functions as the primary key\n",
    "                         \"url\": None,\n",
    "                         \"sci_name\": None,\n",
    "                         \"family\": None,\n",
    "                         \"order\": None,\n",
    "                         \"inst\": None,\n",
    "                         \"catalog_id\": None,\n",
    "                         \"state\": None,\n",
    "                         \"date\": None,\n",
    "                         \"county\": None,\n",
    "                         \"municipality\": None,\n",
    "                         \"locality\": None,\n",
    "                         \"latitude\": None,\n",
    "                         \"longitue\": None}\n",
    "        self.label_map.update(label_map)\n",
    "        self.order_map = {}\n",
    "        self.status_list = ['Budding', 'Flowering', 'Fruiting' ,'Reproductive']\n",
    "\n",
    "    def load_master_dataset(self, csv_path):\n",
    "        self.master_df = pd.read_csv(csv_path)\n",
    "        self.master_df.rename(columns = {v:k for k,v in self.label_map.items()},inplace=True)\n",
    "        # deduping because we use our own ground truth, and only need one version of every file\n",
    "        self.master_df.drop_duplicates(subset = ['catalog_number'], keep='first', inplace=True)\n",
    "        self.master_df.set_index('catalog_number', inplace = True)\n",
    "\n",
    "\n",
    "    \n",
    "    def load_orders(self, order_csv_path, head_label = True):\n",
    "        \"\"\"\n",
    "        populates the 'order' field of self.master_df using a csv mapping families to orders\n",
    "\n",
    "        Arguments:\n",
    "            order_csv_path (str): path to the csv storing orders\n",
    "            head_label (str): whether the first row is a label\n",
    "\n",
    "        order_csv_path schema:\n",
    "        Family: (1st column): str of family\n",
    "        Order:  (2nd column): str of order\n",
    "\n",
    "\n",
    "        \"\"\"\n",
    "        if head_label:\n",
    "            mapping_df = pd.read_csv(order_csv_path)\n",
    "        else:\n",
    "            mapping_df = pd.read_csv(order_csv_path, names=['Family', 'Order'])\n",
    "\n",
    "        self.order_map = dict(zip(list(mapping_df['Family']), list(mapping_df['Order'])))\n",
    "        self.master_df['order'] = self.master_df['family'].apply(lambda family_name: self.order_map[family_name])\n",
    "\n",
    "\n",
    "    def load_gt(self, ground_truth_file, status_list):\n",
    "        \"\"\"\n",
    "        Generates the ground truth from a scoring csv\n",
    "        \n",
    "        Arguments:\n",
    "            ground_truth_file (str): filepath with ground truths\n",
    "            status_list (List[str]): the list of status to load\n",
    "\n",
    "        ground truth schema:    \n",
    "            Filename: {catalog_number}.jpg\n",
    "            {status} Status: TRUE/FALSE\n",
    "            -- repeat for every status -- \n",
    "\n",
    "        Returns:\n",
    "            ground_truth_df of all the desired ground truths.\n",
    "                Schema:\n",
    "                {status} Ground Truth: TRUE/FALSE\n",
    "                -- repeat for every status --    \n",
    "\n",
    "        \"\"\"\n",
    "        \n",
    "        ground_truth_df = pd.read_csv(ground_truth_file)\n",
    "\n",
    "\n",
    "        def substitute(value):\n",
    "#             print(type(value))\n",
    "#             print(value)\n",
    "            if value == \"True\" or value == True:\n",
    "                return False\n",
    "            elif value == 'False' or value == False:\n",
    "                return True\n",
    "            elif np.isnan(value):\n",
    "                return(np.nan)\n",
    "            else:\n",
    "                raise Exception(\"Invalid data type\")\n",
    "\n",
    "\n",
    "        for status in status_list:\n",
    "                ground_truth_df.loc[:,f\"{status} Status\"] = ground_truth_df.loc[:,f\"{status} Status\"].apply(lambda x: substitute(x))\n",
    "\n",
    "        ground_truth_df.rename(columns=dict(zip([f\"{status} Status\" for status in status_list],[f\"{status} Ground Truth\" for status in status_list])), inplace=True)\n",
    "        \n",
    "        ground_truth_df.loc[:, 'catalog_number'] = ground_truth_df['Filename'].apply(lambda filename: filename[:-4])\n",
    "        ground_truth_df.set_index('catalog_number', inplace = True)\n",
    "        gt_status_list = [f\"{status} Ground Truth\" for status in status_list]\n",
    "        return ground_truth_df[gt_status_list]\n",
    "    \n",
    "\n",
    "\n",
    "    def load_preds(self, pred_csv_path, status_list, binarized = False):\n",
    "        \"\"\"\n",
    "        Loads the predictions from pred_csv_path, binarizes the data, reindexes to catalog_number\n",
    "\n",
    "        Arguments:\n",
    "            pred_csv_path (str): path to the csv storing predictions\n",
    "            status_list (List[str]): list of statuses to evaluate\n",
    "            binarized (boolean): boolean of whether the data is binarized\n",
    "        \n",
    "        pred_csv_path schema:\n",
    "            Filename: {catalog_number}.jpg\n",
    "            {status} Status: TRUE/FALSE if binarized, {status}/Not_{status} if not binarized\n",
    "            {status} status Confidence: float (>0.5)\n",
    "            -- repeat for every status -- \n",
    "\n",
    "        Returns:\n",
    "            pred_df  (pd.DataFrame): df with the predictions and confidence from status_list\n",
    "                Schema:\n",
    "                {status} Prediction: TRUE/FALSE\n",
    "                {status} Prediction Confidence: float\n",
    "                -- repeat for every status --  \n",
    "\n",
    "        \"\"\"\n",
    "        pred_df = pd.read_csv(pred_csv_path)\n",
    "        if np.isnan(pred_df.iloc[0,1]):\n",
    "            pred_df = pred_df.loc[1:]\n",
    "\n",
    "                        \n",
    "        def substitute(value):\n",
    "            if \"Not\" in value:\n",
    "                return False\n",
    "            else:\n",
    "                return True\n",
    "\n",
    "        if not binarized: \n",
    "            for status in status_list:\n",
    "                pred_df.loc[:,f\"{status} Prediction\"] = pred_df.loc[:,f\"{status} Status\"].apply(lambda x: substitute(x))\n",
    "\n",
    "\n",
    "        # extract catalog number and reindex to catalog number\n",
    "        pred_df.loc[:, \"Filename\"] = pred_df['Filepath'].apply(lambda filepath: filepath.split('/')[-1])\n",
    "        pred_df.loc[:, 'catalog_number'] = pred_df['Filename'].apply(lambda filename: filename[:-4])\n",
    "        pred_df.set_index('catalog_number', inplace=True)\n",
    "\n",
    "        pred_df.rename(columns=dict(zip([f\"{status} Status Confidence\" for status in status_list], [f\"{status} Prediction Confidence\" for status in status_list])), inplace=True)\n",
    "\n",
    "        # only return desired statuses\n",
    "        return_status_list = []\n",
    "        for status in status_list:\n",
    "            return_status_list.append(f\"{status} Prediction\")\n",
    "            return_status_list.append(f\"{status} Prediction Confidence\")\n",
    "        return pred_df[return_status_list]\n",
    "\n",
    "   \n",
    "      \n",
    "    @staticmethod\n",
    "    def parse_name(name) -> str:\n",
    "#         if name[0] in {'1','2','3','4','5','6','7','8','9'}:\n",
    "#             #print(\"entered starting with number\")\n",
    "#             if len(name) == 7:\n",
    "#                 return \"barcode-0\"+name, name, int(name)\n",
    "#             if len(name) == 6:\n",
    "#                 return \"barcode-00\"+name, name, int(name)\n",
    "        if name[0:4] == \"ECON\":\n",
    "            partial = name[-7:]\n",
    "            if partial[0] == '0':\n",
    "                return \"barcode-00\"+name[-6:]\n",
    "            else:\n",
    "                return \"barcode-0\"+name[-7:]\n",
    "#         if name[0:2] == \"00\":\n",
    "#             print(\"barcode-\"+name)\n",
    "#             return \"barcode-\"+name\n",
    "        if name[0:3] == \"CBS\":\n",
    "            return \"CBS.\" + name[3:9]\n",
    "        if name[0:3] == \"GH0\":\n",
    "            return \"barcode-\"+name[2:]\n",
    "        if name[0:4] == \"NEBC\":\n",
    "            partial = \"barcode-0\"+name[-7:]\n",
    "            if partial[0] == \"0\":\n",
    "                return \"barcode-00\"+partial[1:]\n",
    "            else: \n",
    "                return partial\n",
    "        if name[0:2] == \"A0\":\n",
    "            partial = \"barcode-0\"+name[-7:]\n",
    "            if partial[0] == \"0\":\n",
    "                return \"barcode-00\"+partial[1:]\n",
    "            else: \n",
    "                return partial\n",
    "        if name[0:3] == \"YU0\":\n",
    "            return \"YU.\" + name[2:8]\n",
    "        return name\n",
    "\n",
    "\n",
    "    def merge_preds_gt(self, preds_df, gt_df):\n",
    "        \"\"\"\n",
    "        Merges predictions and ground truth with self.master_df\n",
    "\n",
    "\n",
    "        \"\"\"\n",
    "        merge_preds_gt_df = preds_df.join(gt_df, how='inner')\n",
    "        merge_preds_gt_df['catalog_number'] = merge_preds_gt_df.index\n",
    "        merge_preds_gt_df['catalog_number'] = merge_preds_gt_df['catalog_number'].apply(lambda x: Dataset.parse_name(x))\n",
    "        merge_preds_gt_df.set_index('catalog_number', inplace=True)\n",
    "        # display(merge_preds_gt_df)\n",
    "        self.master_df = self.master_df.join(merge_preds_gt_df, how=\"left\")\n",
    "        # display(merge_preds_gt_df)\n",
    "        # print(f\"master len: {len(self.master_df)}\")\n",
    "\n",
    "\n",
    "\n",
    "\n",
    "        unmatched_preds = merge_preds_gt_df[~merge_preds_gt_df.index.isin(self.master_df.index)].index\n",
    "        # print(f\" unmathched 1: {unmatched_preds}\")\n",
    "        # print(f\" unmatched len 1: {len(unmatched_preds)}\")\n",
    "        \n",
    "        # retry unmatched_preds\n",
    "        retry = [pred_catalog_number for pred_catalog_number in unmatched_preds if len(pred_catalog_number) == 8]\n",
    "        # print(f\" retry catalog numbers: {retry}\")\n",
    "\n",
    "        \n",
    "        # print(\"selected from retry\")\n",
    "        retry_df= merge_preds_gt_df[merge_preds_gt_df.index.isin(retry)]\n",
    "        retry_df['retry_catalog_number'] = [x[2:] for x in retry_df.index]\n",
    "        retry_df.set_index('retry_catalog_number', inplace=True)\n",
    "        # retry_df.drop(['retry_catalog_number'])\n",
    "        # print(\"display the retry\")\n",
    "        # display(retry_df.head(10))\n",
    "\n",
    "        # print(\"checking retry presence\")\n",
    "        # display(self.master_df.loc[self.master_df.index.isin(retry_df.index)])\n",
    "        # print(\"length of retry join\")\n",
    "        # print(len(self.master_df.loc[self.master_df.index.isin(retry_df.index)]))\n",
    "        \n",
    "        self.master_df.fillna(retry_df, inplace=True)\n",
    "        unmatched_preds = retry_df[~retry_df.index.isin(self.master_df.index)].index\n",
    "        # print(\"retry\")\n",
    "        # display(self.master_df[self.master_df.index.isin(retry_df.index)].head(10))\n",
    "        # print(unmatched_preds[:min(len(unmatched_preds), 10)])\n",
    "        # print(len(unmatched_preds))\n"
   ]
  },
  {
   "cell_type": "code",
   "execution_count": 135,
   "metadata": {},
   "outputs": [],
   "source": [
    "NEVP_2019_09_10_bindings = {\"catalog_number\":  \"catalogNumber\", # this functions as the primary key\n",
    "                                \"url\": \"originalurl\",\n",
    "                                \"sci_name\": \"scientificName\",\n",
    "                                \"family\": \"family\",\n",
    "                                \"order\": None,\n",
    "                                \"inst\": \"institutionCode\",\n",
    "                                \"object_id\": \"occid\",\n",
    "                                \"state\": \"stateProvince\",\n",
    "                                \"event_date\": \"eventDate\",\n",
    "                                \"year\": \"year\",\n",
    "                                \"county\": \"county\",\n",
    "                                \"municipality\": \"municipality\",\n",
    "                                \"locality\": \"locality\",\n",
    "                                \"latitude\": \"decimalLatitude\",\n",
    "                                \"longitue\": \"decimalLongitude\"}"
   ]
  },
  {
   "cell_type": "code",
   "execution_count": 136,
   "metadata": {},
   "outputs": [],
   "source": [
    "dataset_test = Dataset(NEVP_2019_09_10_bindings)\n",
    "dataset_test.load_master_dataset(\"../data/master_datasets/NEVP_2019_09_10.csv\")"
   ]
  },
  {
   "cell_type": "code",
   "execution_count": 137,
   "metadata": {},
   "outputs": [],
   "source": [
    "gt_df = dataset_test.load_gt(\"../data/ground_truth/dataset_1/Flowering_dataset_1.csv\", ['Flowering'])"
   ]
  },
  {
   "cell_type": "code",
   "execution_count": 138,
   "metadata": {},
   "outputs": [],
   "source": [
    "preds_df = dataset_test.load_preds(\"../data/predictions/dataset_1/2020-10-30-Flowering_val_classifications.csv\", ['Flowering'])"
   ]
  },
  {
   "cell_type": "code",
   "execution_count": 139,
   "metadata": {},
   "outputs": [
    {
     "output_type": "display_data",
     "data": {
      "text/plain": "                                                    Flowering Prediction  \\\ncatalog_number                                                             \nNHA-709120                                                          True   \n6928324fba0f8379058f7c5dd7954c1c18ea1ffdea3dc3a...                 False   \nNHA-695203                                                          True   \nbarcode-00583914                                                    True   \n00333422                                                           False   \n...                                                                  ...   \n00403133                                                            True   \nbarcode-00683009                                                   False   \nYU.080241                                                           True   \nYU.077976                                                          False   \nbarcode-01069927                                                   False   \n\n                                                    Flowering Prediction Confidence  \\\ncatalog_number                                                                        \nNHA-709120                                                                 0.999992   \n6928324fba0f8379058f7c5dd7954c1c18ea1ffdea3dc3a...                         0.990467   \nNHA-695203                                                                 0.999854   \nbarcode-00583914                                                           0.979013   \n00333422                                                                   0.995690   \n...                                                                             ...   \n00403133                                                                   0.999981   \nbarcode-00683009                                                           0.984435   \nYU.080241                                                                  0.896338   \nYU.077976                                                                  0.708212   \nbarcode-01069927                                                           0.916048   \n\n                                                    Flowering Ground Truth  \ncatalog_number                                                              \nNHA-709120                                                           False  \n6928324fba0f8379058f7c5dd7954c1c18ea1ffdea3dc3a...                    True  \nNHA-695203                                                           False  \nbarcode-00583914                                                     False  \n00333422                                                              True  \n...                                                                    ...  \n00403133                                                             False  \nbarcode-00683009                                                      True  \nYU.080241                                                            False  \nYU.077976                                                            False  \nbarcode-01069927                                                      True  \n\n[8482 rows x 3 columns]",
      "text/html": "<div>\n<style scoped>\n    .dataframe tbody tr th:only-of-type {\n        vertical-align: middle;\n    }\n\n    .dataframe tbody tr th {\n        vertical-align: top;\n    }\n\n    .dataframe thead th {\n        text-align: right;\n    }\n</style>\n<table border=\"1\" class=\"dataframe\">\n  <thead>\n    <tr style=\"text-align: right;\">\n      <th></th>\n      <th>Flowering Prediction</th>\n      <th>Flowering Prediction Confidence</th>\n      <th>Flowering Ground Truth</th>\n    </tr>\n    <tr>\n      <th>catalog_number</th>\n      <th></th>\n      <th></th>\n      <th></th>\n    </tr>\n  </thead>\n  <tbody>\n    <tr>\n      <th>NHA-709120</th>\n      <td>True</td>\n      <td>0.999992</td>\n      <td>False</td>\n    </tr>\n    <tr>\n      <th>6928324fba0f8379058f7c5dd7954c1c18ea1ffdea3dc3ae8d1da7727e3ac9ff</th>\n      <td>False</td>\n      <td>0.990467</td>\n      <td>True</td>\n    </tr>\n    <tr>\n      <th>NHA-695203</th>\n      <td>True</td>\n      <td>0.999854</td>\n      <td>False</td>\n    </tr>\n    <tr>\n      <th>barcode-00583914</th>\n      <td>True</td>\n      <td>0.979013</td>\n      <td>False</td>\n    </tr>\n    <tr>\n      <th>00333422</th>\n      <td>False</td>\n      <td>0.995690</td>\n      <td>True</td>\n    </tr>\n    <tr>\n      <th>...</th>\n      <td>...</td>\n      <td>...</td>\n      <td>...</td>\n    </tr>\n    <tr>\n      <th>00403133</th>\n      <td>True</td>\n      <td>0.999981</td>\n      <td>False</td>\n    </tr>\n    <tr>\n      <th>barcode-00683009</th>\n      <td>False</td>\n      <td>0.984435</td>\n      <td>True</td>\n    </tr>\n    <tr>\n      <th>YU.080241</th>\n      <td>True</td>\n      <td>0.896338</td>\n      <td>False</td>\n    </tr>\n    <tr>\n      <th>YU.077976</th>\n      <td>False</td>\n      <td>0.708212</td>\n      <td>False</td>\n    </tr>\n    <tr>\n      <th>barcode-01069927</th>\n      <td>False</td>\n      <td>0.916048</td>\n      <td>True</td>\n    </tr>\n  </tbody>\n</table>\n<p>8482 rows × 3 columns</p>\n</div>"
     },
     "metadata": {}
    },
    {
     "output_type": "display_data",
     "data": {
      "text/plain": "                                                    Flowering Prediction  \\\ncatalog_number                                                             \nNHA-709120                                                          True   \n6928324fba0f8379058f7c5dd7954c1c18ea1ffdea3dc3a...                 False   \nNHA-695203                                                          True   \nbarcode-00583914                                                    True   \n00333422                                                           False   \n...                                                                  ...   \n00403133                                                            True   \nbarcode-00683009                                                   False   \nYU.080241                                                           True   \nYU.077976                                                          False   \nbarcode-01069927                                                   False   \n\n                                                    Flowering Prediction Confidence  \\\ncatalog_number                                                                        \nNHA-709120                                                                 0.999992   \n6928324fba0f8379058f7c5dd7954c1c18ea1ffdea3dc3a...                         0.990467   \nNHA-695203                                                                 0.999854   \nbarcode-00583914                                                           0.979013   \n00333422                                                                   0.995690   \n...                                                                             ...   \n00403133                                                                   0.999981   \nbarcode-00683009                                                           0.984435   \nYU.080241                                                                  0.896338   \nYU.077976                                                                  0.708212   \nbarcode-01069927                                                           0.916048   \n\n                                                    Flowering Ground Truth  \ncatalog_number                                                              \nNHA-709120                                                           False  \n6928324fba0f8379058f7c5dd7954c1c18ea1ffdea3dc3a...                    True  \nNHA-695203                                                           False  \nbarcode-00583914                                                     False  \n00333422                                                              True  \n...                                                                    ...  \n00403133                                                             False  \nbarcode-00683009                                                      True  \nYU.080241                                                            False  \nYU.077976                                                            False  \nbarcode-01069927                                                      True  \n\n[8482 rows x 3 columns]",
      "text/html": "<div>\n<style scoped>\n    .dataframe tbody tr th:only-of-type {\n        vertical-align: middle;\n    }\n\n    .dataframe tbody tr th {\n        vertical-align: top;\n    }\n\n    .dataframe thead th {\n        text-align: right;\n    }\n</style>\n<table border=\"1\" class=\"dataframe\">\n  <thead>\n    <tr style=\"text-align: right;\">\n      <th></th>\n      <th>Flowering Prediction</th>\n      <th>Flowering Prediction Confidence</th>\n      <th>Flowering Ground Truth</th>\n    </tr>\n    <tr>\n      <th>catalog_number</th>\n      <th></th>\n      <th></th>\n      <th></th>\n    </tr>\n  </thead>\n  <tbody>\n    <tr>\n      <th>NHA-709120</th>\n      <td>True</td>\n      <td>0.999992</td>\n      <td>False</td>\n    </tr>\n    <tr>\n      <th>6928324fba0f8379058f7c5dd7954c1c18ea1ffdea3dc3ae8d1da7727e3ac9ff</th>\n      <td>False</td>\n      <td>0.990467</td>\n      <td>True</td>\n    </tr>\n    <tr>\n      <th>NHA-695203</th>\n      <td>True</td>\n      <td>0.999854</td>\n      <td>False</td>\n    </tr>\n    <tr>\n      <th>barcode-00583914</th>\n      <td>True</td>\n      <td>0.979013</td>\n      <td>False</td>\n    </tr>\n    <tr>\n      <th>00333422</th>\n      <td>False</td>\n      <td>0.995690</td>\n      <td>True</td>\n    </tr>\n    <tr>\n      <th>...</th>\n      <td>...</td>\n      <td>...</td>\n      <td>...</td>\n    </tr>\n    <tr>\n      <th>00403133</th>\n      <td>True</td>\n      <td>0.999981</td>\n      <td>False</td>\n    </tr>\n    <tr>\n      <th>barcode-00683009</th>\n      <td>False</td>\n      <td>0.984435</td>\n      <td>True</td>\n    </tr>\n    <tr>\n      <th>YU.080241</th>\n      <td>True</td>\n      <td>0.896338</td>\n      <td>False</td>\n    </tr>\n    <tr>\n      <th>YU.077976</th>\n      <td>False</td>\n      <td>0.708212</td>\n      <td>False</td>\n    </tr>\n    <tr>\n      <th>barcode-01069927</th>\n      <td>False</td>\n      <td>0.916048</td>\n      <td>True</td>\n    </tr>\n  </tbody>\n</table>\n<p>8482 rows × 3 columns</p>\n</div>"
     },
     "metadata": {}
    },
    {
     "output_type": "stream",
     "name": "stdout",
     "text": [
      "master len: 47545\n unmathched 1: Index(['6928324fba0f8379058f7c5dd7954c1c18ea1ffdea3dc3ae8d1da7727e3ac9ff',\n       '00333422', '00397192', '00370207', '00402842', '00366889', '00401440',\n       '00402241',\n       '5331937267303159ce3801d9b1ac7a2172b24243fe61cfa1f029710f94876306',\n       '00375183',\n       ...\n       'bdbb33ee446cba301ca97ca7a03edf040f85bfd0a8f443f656f7c9ce7ac0df77',\n       'a146cba2cf0a85bb4477ce9de0216ae87fb4f74678aa85222a9356a3194d2265',\n       'e88bb16a44fce74b12ad6632cc2c35b35ef1a7dbcdc9d492a1d260ea24c6f6af',\n       '5ad13385d9bcad0aa7ba1fe9dabd373fddd55dcd46def9b819f1baaadacdacb9',\n       'b5ab1038fcf8bde979e5d4b310257fa461d623f2cbd6129ff7ecc890182d9044',\n       '00396645', '00402928', '00411955', '00368530', '00403133'],\n      dtype='object', name='catalog_number', length=1241)\n unmatched len 1: 1241\n retry catalog numbers: ['00333422', '00397192', '00370207', '00402842', '00366889', '00401440', '00402241', '00375183', '00368827', '00338084', '00401395', '00338040', '00414450', '00399166', '00375889', '00399181', '00397371', '00374101', '00370742', '00396533', '00414295', '00397237', '00333379', '00370186', '00375179', '00403154', '00338205', '00396756', '00403001', '00411917', '00399264', '00338055', '00355061', '00375848', '02556898', '00403158', '00396523', '00344184', '00399221', '00370632', '00402861', '02556855', '00397266', '00371979', '00344198', '00340347', '00375891', '00375157', '00339494', '00402851', '00397777', '00339436', '00375939', '00396740', '00340316', '00368722', '00400954', '00374152', '00343522', '00370210', '00415311', '00375910', '00368469', '00402896', '00373110', '00340296', '00402232', '00339467', '00402202', '00338137', '00370174', '00375262', '00368650', '00339384', '00339492', '00403159', '00399225', '00371899', '00401800', '00396408', '00368660', '00367109', '00376026', '00366601', '00368804', '00397724', '00371925', '00399227', '00340285', '00370718', '00401730', '00398337', '00403598', '00397227', '00415495', '00376460', '00397688', '00414078', '00398312', '00397003', '00403008', '00399798', '00372003', '00343521', '00339558', '00397026', '00414105', '00338247', '00370641', '00370179', '00370685', '00375863', '00370640', '00366617', '00396550', '00338115', '00401712', '00366828', '00397260', '00375931', '00368680', '00366831', '00396734', '00338241', '00368674', '00339380', '00402506', '00396952', '00338277', '00414221', '00366885', '00369579', '00375755', '00340853', '00396544', '00396429', '00414469', '00411933', '00368503', '00412014', '02556856', '00368508', '00333389', '00368740', '00397208', '00371134', '00375284', '00401414', '00365926', '00366648', '00371103', '00368646', '00401384', '00412067', '00338232', '00366600', '00375280', '00403583', '00338144', '00414443', '00397487', '00403624', '00397043', '00414211', '00339503', '00375274', '00331154', '00403151', '00397027', '00344231', '00370662', '00374147', '00403180', '00370134', '00400939', '00333398', '00402433', '00397202', '00370639', '00397251', '00338224', '00414289', '00401686', '00401407', '00339349', '00397738', '00397794', '00396943', '00375958', '00374124', '00397268', '00403648', '00403607', '00414284', '00371972', '00370751', '00396565', '00339498', '00402979', '00397719', '00397276', '00331139', '00402465', '00370137', '00413377', '00375850', '00340329', '00375759', '00370725', '00368493', '00373082', '00415506', '00412078', '00403572', '00367107', '00401707', '00401716', '00339406', '00402238', '00370132', '00373077', '00414272', '00397681', '00396785', '00366886', '00375721', '00414290', '00397696', '00340342', '00339359', '00338142', '00397066', '00397259', '00397628', '02556861', '00370169', '00402469', '00344213', '00339320', '00368657', '00339342', '00402487', '00333406', '00366865', '00339570', '00396540', '00403566', '00396956', '00397640', '00366598', '00401704', '00344234', '00340254', '00340332', '00411941', '00396716', '00415503', '00414065', '00339322', '00398374', '00402258', '00375846', '00396998', '00343510', '00375902', '00370168', '00401406', '00339355', '00415340', '00397620', '00366633', '00375904', '00340223', '00338127', '00403142', '00402905', '00401368', '00333419', '00397737', '00344230', '00338217', '00375198', '00375744', '00414067', '02104427', '00417305', '00373111', '00376036', '00368647', '00371892', '00365879', '00368542', '00398375', '00338143', '00401770', '00333364', '00402492', '00403029', '00340370', '00368488', '00344239', '00370384', '00370737', '00375255', '00398380', '00331174', '00402509', '00398358', '00402474', '00338293', '00402926', '00396549', '00370735', '00398342', '00415494', '00398400', '00368811', '00340869', '00331165', '00331136', '00374137', '00397110', '00368718', '00366838', '00401833', '00375935', '00401373', '00375717', '00397008', '00370402', '00402931', '00340810', '00397220', '00399153', '00366850', '00414463', '00401760', '00397207', '00365928', '00401693', '00412013', '00371118', '00344220', '00396548', '00368492', '00339367', '00344204', '00344209', '00375885', '00399244', '00396748', '00402852', '00366855', '00368691', '00415363', '00338228', '00375762', '00396391', '00333400', '00402538', '00340808', '00368665', '00402504', '00375857', '00338291', '02556896', '00375871', '00368477', '00339358', '00401817', '00338120', '00365921', '00366858', '00375905', '00374114', '00412040', '00402525', '00373112', '00375275', '00398405', '00370715', '00401791', '00399156', '00370716', '00396789', '00366823', '00366874', '00397362', '00338148', '00333425', '00402503', '00396657', '00397745', '00397804', '00370630', '00340419', '00396750', '00403629', '00331164', '00370150', '00340430', '00331171', '00415362', '00397744', '00366873', '00371097', '00401811', '00368795', '00370663', '00402530', '00343514', '00414227', '00397046', '00338218', '00399169', '00372930', '00368774', '00396788', '00403030', '00344238', '00370414', '00402449', '00398404', '00400949', '00339395', '00370145', '00333429', '00411921', '00401827', '00371920', '00398350', '00397361', '00369575', '00340409', '00402230', '00403647', '00338133', '00366664', '00340864', '00370162', '00338214', '00398300', '00371911', '00375938', '00366842', '00338111', '00366817', '00373067', '00371893', '00366642', '00411935', '00402918', '00375831', '00403139', '00367095', '00374111', '00340805', '00373118', '00402541', '00403044', '00370408', '00396762', '00402246', '00338050', '00368831', '00375193', '00368734', '00368501', '00374141', '00339346', '00371106', '00338090', '00397287', '00399230', '00370142', '00333370', '00375259', '00373108', '00397086', '00368721', '00340402', '00397636', '00415549', '00340321', '00411894', '00401768', '00397758', '00399224', '00417339', '00403035', '02556803', '00402191', '00339534', '00397182', '00414438', '00375957', '00365890', '00397767', '00375770', '00365916', '00370151', '01087575', '00401767', '00401683', '00365868', '00370397', '00375285', '00339564', '00396701', '00398311', '00338282', '00339330', '00338287', '00396770', '00396953', '00368482', '00396801', '00397677', '00415578', '00396746', '00412060', '00417860', '00417316', '00366868', '00403586', '00373087', '00414102', '00331159', '00338213', '00375716', '00399809', '00403009', '00338138', '00367115', '00401432', '00367128', '00339383', '00396960', '00376033', '00369570', '00398332', '00399186', '00401721', '00397271', '00340237', '00374116', '00399817', '00340172', '00344216', '00374115', '00339375', '00339574', '00375142', '00340814', '00397007', '00401381', '00340838', '00331147', '00397291', '00365895', '00343480', '00415575', '00366853', '00396766', '00375923', '00366891', '00368794', '00403005', '00396777', '00402899', '00402521', '00402838', '00403041', '00376027', '00339386', '00398335', '00373107', '00412055', '00376444', '00340823', '00370691', '00397236', '00402227', '00414086', '00368727', '00399256', '00402551', '00401787', '00402524', '00403109', '00344221', '00338141', '00398394', '00399220', '00344201', '00396799', '00402985', '00402562', '00368475', '00402909', '00368467', '00331163', '00402248', '00376028', '00397692', '00343484', '00367094', '00414294', '00375129', '00366856', '00375914', '00397293', '00375903', '00367090', '00374149', '00396713', '00375134', '00371132', '00375853', '00403636', '00375738', '00415539', '00365884', '00396424', '00402560', '00340179', '00370713', '00375757', '00340812', '00375933', '00368523', '00339438', '00375724', '00403137', '00331132', '00396948', '00333410', '00396516', '00340839', '00375925', '00413378', '00370385', '00366619', '00371986', '00344212', '00399160', '00339464', '00397263', '00340866', '00399158', '00403627', '00340177', '00340257', '00343517', '00368639', '00339566', '00397221', '00340867', '00414445', '00402545', '00338099', '00370208', '00403595', '00372023', '00368538', '00403145', '00367096', '00402921', '00370726', '00370622', '00331131', '00340836', '00343492', '00366653', '00365871', '00375837', '00338037', '00340276', '00368745', '00414454', '00338038', '00397258', '00344206', '00339343', '00412038', '00402442', '00373099', '00368781', '00402242', '00397019', '00370386', '00415519', '00403160', '00375949', '00401775', '00340366', '00412077', '00403582', '00340268', '00396752', '00403045', '00370194', '00397231', '00376448', '00375743', '00367092', '00340420', '00396407', '00398388', '00374155', '00338119', '00415320', '00365859', '00339397', '00401777', '00339567', '00401714', '00371907', '00414093', '00344207', '00368723', '00339545', '00401796', '00397297', '00371935', '00371120', '00370209', '00368754', '00343498', '00375906', '00339466', '00402428', '00401798', '00333405', '00403108', '00338216', '00374145', '00333412', '00402240', '00344215', '00375913', '00397098', '00398321', '00398352', '00396406', '00396760', '00375206', '00340841', '00374138', '00339345', '00368528', '00403655', '00338078', '00371973', '00415324', '00340239', '00339572', '00366646', '00402499', '00338147', '00403609', '00414224', '00375878', '00368649', '00340879', '00344245', '00369569', '00403043', '00366639', '00402452', '00412012', '00402484', '00396382', '00375145', '00333399', '00366596', '00368737', '00396761', '00412044', '00402488', '00374104', '00375726', '00366632', '00370413', '00374161', '00368703', '00399241', '00370704', '00373075', '00412053', '00338069', '00414054', '00365857', '00417344', '00401687', '00397712', '00402999', '00397289', '00376034', '00396645', '00402928', '00411955', '00368530', '00403133']\nselected from retry\ndisplay the retry\n"
     ]
    },
    {
     "output_type": "display_data",
     "data": {
      "text/plain": "                      Flowering Prediction  Flowering Prediction Confidence  \\\nretry_catalog_number                                                          \n333422                               False                         0.995690   \n397192                                True                         0.995634   \n370207                               False                         0.999801   \n402842                               False                         0.999075   \n366889                                True                         0.999938   \n401440                                True                         0.999482   \n402241                                True                         0.728117   \n375183                                True                         0.932255   \n368827                               False                         0.999355   \n338084                               False                         0.987595   \n\n                      Flowering Ground Truth  \nretry_catalog_number                          \n333422                                  True  \n397192                                 False  \n370207                                  True  \n402842                                  True  \n366889                                 False  \n401440                                 False  \n402241                                 False  \n375183                                 False  \n368827                                  True  \n338084                                  True  ",
      "text/html": "<div>\n<style scoped>\n    .dataframe tbody tr th:only-of-type {\n        vertical-align: middle;\n    }\n\n    .dataframe tbody tr th {\n        vertical-align: top;\n    }\n\n    .dataframe thead th {\n        text-align: right;\n    }\n</style>\n<table border=\"1\" class=\"dataframe\">\n  <thead>\n    <tr style=\"text-align: right;\">\n      <th></th>\n      <th>Flowering Prediction</th>\n      <th>Flowering Prediction Confidence</th>\n      <th>Flowering Ground Truth</th>\n    </tr>\n    <tr>\n      <th>retry_catalog_number</th>\n      <th></th>\n      <th></th>\n      <th></th>\n    </tr>\n  </thead>\n  <tbody>\n    <tr>\n      <th>333422</th>\n      <td>False</td>\n      <td>0.995690</td>\n      <td>True</td>\n    </tr>\n    <tr>\n      <th>397192</th>\n      <td>True</td>\n      <td>0.995634</td>\n      <td>False</td>\n    </tr>\n    <tr>\n      <th>370207</th>\n      <td>False</td>\n      <td>0.999801</td>\n      <td>True</td>\n    </tr>\n    <tr>\n      <th>402842</th>\n      <td>False</td>\n      <td>0.999075</td>\n      <td>True</td>\n    </tr>\n    <tr>\n      <th>366889</th>\n      <td>True</td>\n      <td>0.999938</td>\n      <td>False</td>\n    </tr>\n    <tr>\n      <th>401440</th>\n      <td>True</td>\n      <td>0.999482</td>\n      <td>False</td>\n    </tr>\n    <tr>\n      <th>402241</th>\n      <td>True</td>\n      <td>0.728117</td>\n      <td>False</td>\n    </tr>\n    <tr>\n      <th>375183</th>\n      <td>True</td>\n      <td>0.932255</td>\n      <td>False</td>\n    </tr>\n    <tr>\n      <th>368827</th>\n      <td>False</td>\n      <td>0.999355</td>\n      <td>True</td>\n    </tr>\n    <tr>\n      <th>338084</th>\n      <td>False</td>\n      <td>0.987595</td>\n      <td>True</td>\n    </tr>\n  </tbody>\n</table>\n</div>"
     },
     "metadata": {}
    },
    {
     "output_type": "stream",
     "name": "stdout",
     "text": [
      "checking retry presence\n"
     ]
    },
    {
     "output_type": "display_data",
     "data": {
      "text/plain": "                object_id  stateid     stateName  occid.1  \\\ncatalog_number                                              \n401796            1988333       21  Reproductive  1988333   \n368660            1988656       21  Reproductive  1988656   \n396407            1988690       21  Reproductive  1988690   \n366639            1988761       21  Reproductive  1988761   \n397237            1988828       21  Reproductive  1988828   \n...                   ...      ...           ...      ...   \n374124            2084809       21  Reproductive  2084809   \n397221            2084889       21  Reproductive  2084889   \n398400            2085002       21  Reproductive  2085002   \n338205            2085014       20       Sterile  2085014   \n333425            2085062       21  Reproductive  2085062   \n\n                                        occurrenceID  \\\ncatalog_number                                         \n401796          434a8b56-2bd7-4cbb-8405-26461dd04fbe   \n368660          3170fe04-fcef-4476-ad0d-7099387dcb73   \n396407          3cf2b60f-467d-45eb-b533-acfa40e794c6   \n366639          1c28f9c9-de68-42f9-b816-470a8e6a4e97   \n397237          c7b821cd-8aa5-4e25-9492-8846a93383d1   \n...                                              ...   \n374124          f9f40a54-e95b-4c8f-aee6-2cc49ec65d54   \n397221          5f4bddb9-7453-4315-b85e-3637aa703031   \n398400          c9b68c6f-dc3b-4d4f-9825-c4d88295d7d9   \n338205          068242a7-286b-47a6-8a1f-a5259ff92c1d   \n333425          7b05fa1f-61d3-451e-af04-b37de9a7efee   \n\n                                       inst collectionCode          family  \\\ncatalog_number                                                               \n401796          University of Massachusetts           MASS       Lamiaceae   \n368660          University of Massachusetts           MASS        Rosaceae   \n396407          University of Massachusetts           MASS     Clethraceae   \n366639          University of Massachusetts           MASS  Hamamelidaceae   \n397237          University of Massachusetts           MASS       Ericaceae   \n...                                     ...            ...             ...   \n374124          University of Massachusetts           MASS    Hypericaceae   \n397221          University of Massachusetts           MASS       Ericaceae   \n398400          University of Massachusetts           MASS       Ericaceae   \n338205          University of Massachusetts           MASS    Nymphaeaceae   \n333425          University of Massachusetts           MASS        Rosaceae   \n\n                                                 sci_name  tidinterpreted  \\\ncatalog_number                                                              \n401796                         Scutellaria lateriflora L.        832028.0   \n368660                 Aronia melanocarpa (Michx.) Elliot        860173.0   \n396407                               Clethra alnifolia L.        820149.0   \n366639                            Hamamelis virginiana L.        824065.0   \n397237          Rhododendron prinophyllum (Small) Millais        830853.0   \n...                                                   ...             ...   \n374124                         Hypericum ellipticum Hook.        824739.0   \n397221          Rhododendron prinophyllum (Small) Millais        830853.0   \n398400                             Vaccinium oxycoccos L.        834137.0   \n338205                            Nuphar variegata Durand        855155.0   \n333425                 Amelanchier canadensis (L.) Medik.        816311.0   \n\n                ...   longitue geodeticDatum  coordinateUncertaintyInMeters  \\\ncatalog_number  ...                                                           \n401796          ...        NaN           NaN                            NaN   \n368660          ...        NaN           NaN                            NaN   \n396407          ... -72.400380         WGS84                        10475.0   \n366639          ... -71.807940         WGS84                         8059.0   \n397237          ... -72.147660         WGS84                         7399.0   \n...             ...        ...           ...                            ...   \n374124          ...        NaN           NaN                            NaN   \n397221          ... -72.506860         WGS84                         7831.0   \n398400          ... -71.441250         WGS84                         9141.0   \n338205          ...        NaN           NaN                            NaN   \n333425          ... -72.383144           NaN                         5000.0   \n\n                georeferenceProtocol  \\\ncatalog_number                         \n401796                           NaN   \n368660                           NaN   \n396407                           NaN   \n366639                           NaN   \n397237                           NaN   \n...                              ...   \n374124                           NaN   \n397221                           NaN   \n398400                           NaN   \n338205                           NaN   \n333425                           NaN   \n\n                                              georeferenceRemarks  \\\ncatalog_number                                                      \n401796                                                        NaN   \n368660                                                        NaN   \n396407          Coordinates are for the centroid of the town p...   \n366639          Coordinates are for the centroid of the town p...   \n397237          Coordinates are for the centroid of the town p...   \n...                                                           ...   \n374124                                                        NaN   \n397221          Coordinates are for the centroid of the town p...   \n398400          Coordinates are for the centroid of the town p...   \n338205                                                        NaN   \n333425                                                        NaN   \n\n                                              georeferenceSources  \\\ncatalog_number                                                      \n401796                                                        NaN   \n368660                                                        NaN   \n396407          Community Boundaries (Towns) from Survey Point...   \n366639          Community Boundaries (Towns) from Survey Point...   \n397237          New Hampshire Political Boundaries at 1:24,000...   \n...                                                           ...   \n374124                                                        NaN   \n397221          Community Boundaries (Towns) from Survey Point...   \n398400          New Hampshire Political Boundaries at 1:24,000...   \n338205                                                        NaN   \n333425                                                        NaN   \n\n                                                              url  \\\ncatalog_number                                                      \n401796          https://bisque.cyverse.org/image_service/00-Ja...   \n368660          https://bisque.cyverse.org/image_service/00-zG...   \n396407          https://bisque.cyverse.org/image_service/00-fz...   \n366639          https://bisque.cyverse.org/image_service/00-fx...   \n397237          https://bisque.cyverse.org/image_service/00-pf...   \n...                                                           ...   \n374124          https://bisque.cyverse.org/image_service/00-uJ...   \n397221          https://bisque.cyverse.org/image_service/00-jA...   \n398400          https://bisque.cyverse.org/image_service/00-it...   \n338205          https://bisque.cyverse.org/image_service/00-L6...   \n333425          https://bisque.cyverse.org/image_service/00-sZ...   \n\n               Flowering Prediction Flowering Prediction Confidence  \\\ncatalog_number                                                        \n401796                          NaN                             NaN   \n368660                          NaN                             NaN   \n396407                          NaN                             NaN   \n366639                          NaN                             NaN   \n397237                          NaN                             NaN   \n...                             ...                             ...   \n374124                          NaN                             NaN   \n397221                          NaN                             NaN   \n398400                          NaN                             NaN   \n338205                          NaN                             NaN   \n333425                          NaN                             NaN   \n\n                Flowering Ground Truth  \ncatalog_number                          \n401796                             NaN  \n368660                             NaN  \n396407                             NaN  \n366639                             NaN  \n397237                             NaN  \n...                                ...  \n374124                             NaN  \n397221                             NaN  \n398400                             NaN  \n338205                             NaN  \n333425                             NaN  \n\n[796 rows x 30 columns]",
      "text/html": "<div>\n<style scoped>\n    .dataframe tbody tr th:only-of-type {\n        vertical-align: middle;\n    }\n\n    .dataframe tbody tr th {\n        vertical-align: top;\n    }\n\n    .dataframe thead th {\n        text-align: right;\n    }\n</style>\n<table border=\"1\" class=\"dataframe\">\n  <thead>\n    <tr style=\"text-align: right;\">\n      <th></th>\n      <th>object_id</th>\n      <th>stateid</th>\n      <th>stateName</th>\n      <th>occid.1</th>\n      <th>occurrenceID</th>\n      <th>inst</th>\n      <th>collectionCode</th>\n      <th>family</th>\n      <th>sci_name</th>\n      <th>tidinterpreted</th>\n      <th>...</th>\n      <th>longitue</th>\n      <th>geodeticDatum</th>\n      <th>coordinateUncertaintyInMeters</th>\n      <th>georeferenceProtocol</th>\n      <th>georeferenceRemarks</th>\n      <th>georeferenceSources</th>\n      <th>url</th>\n      <th>Flowering Prediction</th>\n      <th>Flowering Prediction Confidence</th>\n      <th>Flowering Ground Truth</th>\n    </tr>\n    <tr>\n      <th>catalog_number</th>\n      <th></th>\n      <th></th>\n      <th></th>\n      <th></th>\n      <th></th>\n      <th></th>\n      <th></th>\n      <th></th>\n      <th></th>\n      <th></th>\n      <th></th>\n      <th></th>\n      <th></th>\n      <th></th>\n      <th></th>\n      <th></th>\n      <th></th>\n      <th></th>\n      <th></th>\n      <th></th>\n      <th></th>\n    </tr>\n  </thead>\n  <tbody>\n    <tr>\n      <th>401796</th>\n      <td>1988333</td>\n      <td>21</td>\n      <td>Reproductive</td>\n      <td>1988333</td>\n      <td>434a8b56-2bd7-4cbb-8405-26461dd04fbe</td>\n      <td>University of Massachusetts</td>\n      <td>MASS</td>\n      <td>Lamiaceae</td>\n      <td>Scutellaria lateriflora L.</td>\n      <td>832028.0</td>\n      <td>...</td>\n      <td>NaN</td>\n      <td>NaN</td>\n      <td>NaN</td>\n      <td>NaN</td>\n      <td>NaN</td>\n      <td>NaN</td>\n      <td>https://bisque.cyverse.org/image_service/00-Ja...</td>\n      <td>NaN</td>\n      <td>NaN</td>\n      <td>NaN</td>\n    </tr>\n    <tr>\n      <th>368660</th>\n      <td>1988656</td>\n      <td>21</td>\n      <td>Reproductive</td>\n      <td>1988656</td>\n      <td>3170fe04-fcef-4476-ad0d-7099387dcb73</td>\n      <td>University of Massachusetts</td>\n      <td>MASS</td>\n      <td>Rosaceae</td>\n      <td>Aronia melanocarpa (Michx.) Elliot</td>\n      <td>860173.0</td>\n      <td>...</td>\n      <td>NaN</td>\n      <td>NaN</td>\n      <td>NaN</td>\n      <td>NaN</td>\n      <td>NaN</td>\n      <td>NaN</td>\n      <td>https://bisque.cyverse.org/image_service/00-zG...</td>\n      <td>NaN</td>\n      <td>NaN</td>\n      <td>NaN</td>\n    </tr>\n    <tr>\n      <th>396407</th>\n      <td>1988690</td>\n      <td>21</td>\n      <td>Reproductive</td>\n      <td>1988690</td>\n      <td>3cf2b60f-467d-45eb-b533-acfa40e794c6</td>\n      <td>University of Massachusetts</td>\n      <td>MASS</td>\n      <td>Clethraceae</td>\n      <td>Clethra alnifolia L.</td>\n      <td>820149.0</td>\n      <td>...</td>\n      <td>-72.400380</td>\n      <td>WGS84</td>\n      <td>10475.0</td>\n      <td>NaN</td>\n      <td>Coordinates are for the centroid of the town p...</td>\n      <td>Community Boundaries (Towns) from Survey Point...</td>\n      <td>https://bisque.cyverse.org/image_service/00-fz...</td>\n      <td>NaN</td>\n      <td>NaN</td>\n      <td>NaN</td>\n    </tr>\n    <tr>\n      <th>366639</th>\n      <td>1988761</td>\n      <td>21</td>\n      <td>Reproductive</td>\n      <td>1988761</td>\n      <td>1c28f9c9-de68-42f9-b816-470a8e6a4e97</td>\n      <td>University of Massachusetts</td>\n      <td>MASS</td>\n      <td>Hamamelidaceae</td>\n      <td>Hamamelis virginiana L.</td>\n      <td>824065.0</td>\n      <td>...</td>\n      <td>-71.807940</td>\n      <td>WGS84</td>\n      <td>8059.0</td>\n      <td>NaN</td>\n      <td>Coordinates are for the centroid of the town p...</td>\n      <td>Community Boundaries (Towns) from Survey Point...</td>\n      <td>https://bisque.cyverse.org/image_service/00-fx...</td>\n      <td>NaN</td>\n      <td>NaN</td>\n      <td>NaN</td>\n    </tr>\n    <tr>\n      <th>397237</th>\n      <td>1988828</td>\n      <td>21</td>\n      <td>Reproductive</td>\n      <td>1988828</td>\n      <td>c7b821cd-8aa5-4e25-9492-8846a93383d1</td>\n      <td>University of Massachusetts</td>\n      <td>MASS</td>\n      <td>Ericaceae</td>\n      <td>Rhododendron prinophyllum (Small) Millais</td>\n      <td>830853.0</td>\n      <td>...</td>\n      <td>-72.147660</td>\n      <td>WGS84</td>\n      <td>7399.0</td>\n      <td>NaN</td>\n      <td>Coordinates are for the centroid of the town p...</td>\n      <td>New Hampshire Political Boundaries at 1:24,000...</td>\n      <td>https://bisque.cyverse.org/image_service/00-pf...</td>\n      <td>NaN</td>\n      <td>NaN</td>\n      <td>NaN</td>\n    </tr>\n    <tr>\n      <th>...</th>\n      <td>...</td>\n      <td>...</td>\n      <td>...</td>\n      <td>...</td>\n      <td>...</td>\n      <td>...</td>\n      <td>...</td>\n      <td>...</td>\n      <td>...</td>\n      <td>...</td>\n      <td>...</td>\n      <td>...</td>\n      <td>...</td>\n      <td>...</td>\n      <td>...</td>\n      <td>...</td>\n      <td>...</td>\n      <td>...</td>\n      <td>...</td>\n      <td>...</td>\n      <td>...</td>\n    </tr>\n    <tr>\n      <th>374124</th>\n      <td>2084809</td>\n      <td>21</td>\n      <td>Reproductive</td>\n      <td>2084809</td>\n      <td>f9f40a54-e95b-4c8f-aee6-2cc49ec65d54</td>\n      <td>University of Massachusetts</td>\n      <td>MASS</td>\n      <td>Hypericaceae</td>\n      <td>Hypericum ellipticum Hook.</td>\n      <td>824739.0</td>\n      <td>...</td>\n      <td>NaN</td>\n      <td>NaN</td>\n      <td>NaN</td>\n      <td>NaN</td>\n      <td>NaN</td>\n      <td>NaN</td>\n      <td>https://bisque.cyverse.org/image_service/00-uJ...</td>\n      <td>NaN</td>\n      <td>NaN</td>\n      <td>NaN</td>\n    </tr>\n    <tr>\n      <th>397221</th>\n      <td>2084889</td>\n      <td>21</td>\n      <td>Reproductive</td>\n      <td>2084889</td>\n      <td>5f4bddb9-7453-4315-b85e-3637aa703031</td>\n      <td>University of Massachusetts</td>\n      <td>MASS</td>\n      <td>Ericaceae</td>\n      <td>Rhododendron prinophyllum (Small) Millais</td>\n      <td>830853.0</td>\n      <td>...</td>\n      <td>-72.506860</td>\n      <td>WGS84</td>\n      <td>7831.0</td>\n      <td>NaN</td>\n      <td>Coordinates are for the centroid of the town p...</td>\n      <td>Community Boundaries (Towns) from Survey Point...</td>\n      <td>https://bisque.cyverse.org/image_service/00-jA...</td>\n      <td>NaN</td>\n      <td>NaN</td>\n      <td>NaN</td>\n    </tr>\n    <tr>\n      <th>398400</th>\n      <td>2085002</td>\n      <td>21</td>\n      <td>Reproductive</td>\n      <td>2085002</td>\n      <td>c9b68c6f-dc3b-4d4f-9825-c4d88295d7d9</td>\n      <td>University of Massachusetts</td>\n      <td>MASS</td>\n      <td>Ericaceae</td>\n      <td>Vaccinium oxycoccos L.</td>\n      <td>834137.0</td>\n      <td>...</td>\n      <td>-71.441250</td>\n      <td>WGS84</td>\n      <td>9141.0</td>\n      <td>NaN</td>\n      <td>Coordinates are for the centroid of the town p...</td>\n      <td>New Hampshire Political Boundaries at 1:24,000...</td>\n      <td>https://bisque.cyverse.org/image_service/00-it...</td>\n      <td>NaN</td>\n      <td>NaN</td>\n      <td>NaN</td>\n    </tr>\n    <tr>\n      <th>338205</th>\n      <td>2085014</td>\n      <td>20</td>\n      <td>Sterile</td>\n      <td>2085014</td>\n      <td>068242a7-286b-47a6-8a1f-a5259ff92c1d</td>\n      <td>University of Massachusetts</td>\n      <td>MASS</td>\n      <td>Nymphaeaceae</td>\n      <td>Nuphar variegata Durand</td>\n      <td>855155.0</td>\n      <td>...</td>\n      <td>NaN</td>\n      <td>NaN</td>\n      <td>NaN</td>\n      <td>NaN</td>\n      <td>NaN</td>\n      <td>NaN</td>\n      <td>https://bisque.cyverse.org/image_service/00-L6...</td>\n      <td>NaN</td>\n      <td>NaN</td>\n      <td>NaN</td>\n    </tr>\n    <tr>\n      <th>333425</th>\n      <td>2085062</td>\n      <td>21</td>\n      <td>Reproductive</td>\n      <td>2085062</td>\n      <td>7b05fa1f-61d3-451e-af04-b37de9a7efee</td>\n      <td>University of Massachusetts</td>\n      <td>MASS</td>\n      <td>Rosaceae</td>\n      <td>Amelanchier canadensis (L.) Medik.</td>\n      <td>816311.0</td>\n      <td>...</td>\n      <td>-72.383144</td>\n      <td>NaN</td>\n      <td>5000.0</td>\n      <td>NaN</td>\n      <td>NaN</td>\n      <td>NaN</td>\n      <td>https://bisque.cyverse.org/image_service/00-sZ...</td>\n      <td>NaN</td>\n      <td>NaN</td>\n      <td>NaN</td>\n    </tr>\n  </tbody>\n</table>\n<p>796 rows × 30 columns</p>\n</div>"
     },
     "metadata": {}
    },
    {
     "output_type": "stream",
     "name": "stdout",
     "text": [
      "length of retry join\n",
      "796\n",
      "retry\n"
     ]
    },
    {
     "output_type": "display_data",
     "data": {
      "text/plain": "                object_id  stateid     stateName  occid.1  \\\ncatalog_number                                              \n401796            1988333       21  Reproductive  1988333   \n368660            1988656       21  Reproductive  1988656   \n396407            1988690       21  Reproductive  1988690   \n366639            1988761       21  Reproductive  1988761   \n397237            1988828       21  Reproductive  1988828   \n401767            1988893       21  Reproductive  1988893   \n343522            1988894       21  Reproductive  1988894   \n397007            1989073       21  Reproductive  1989073   \n402851            1989096       21  Reproductive  1989096   \n372003            1989493       21  Reproductive  1989493   \n\n                                        occurrenceID  \\\ncatalog_number                                         \n401796          434a8b56-2bd7-4cbb-8405-26461dd04fbe   \n368660          3170fe04-fcef-4476-ad0d-7099387dcb73   \n396407          3cf2b60f-467d-45eb-b533-acfa40e794c6   \n366639          1c28f9c9-de68-42f9-b816-470a8e6a4e97   \n397237          c7b821cd-8aa5-4e25-9492-8846a93383d1   \n401767          5e0bdc44-0a1b-4d4e-8243-fd1b219df7f2   \n343522          076cafe2-ee07-462f-8cc9-aee6e84be5c6   \n397007          6f19a8d7-ad0e-4430-9524-d8b6e1fb1d4b   \n402851          19aecb2c-8b17-4ae8-add8-7e4df292bd5e   \n372003          17246c3c-c3f9-4bd4-bc1c-7cc785206577   \n\n                                       inst collectionCode          family  \\\ncatalog_number                                                               \n401796          University of Massachusetts           MASS       Lamiaceae   \n368660          University of Massachusetts           MASS        Rosaceae   \n396407          University of Massachusetts           MASS     Clethraceae   \n366639          University of Massachusetts           MASS  Hamamelidaceae   \n397237          University of Massachusetts           MASS       Ericaceae   \n401767          University of Massachusetts           MASS       Lamiaceae   \n343522          University of Massachusetts           MASS       Liliaceae   \n397007          University of Massachusetts           MASS       Ericaceae   \n402851          University of Massachusetts           MASS   Aquifoliaceae   \n372003          University of Massachusetts           MASS      Salicaceae   \n\n                                                        sci_name  \\\ncatalog_number                                                     \n401796                                Scutellaria lateriflora L.   \n368660                        Aronia melanocarpa (Michx.) Elliot   \n396407                                      Clethra alnifolia L.   \n366639                                   Hamamelis virginiana L.   \n397237                 Rhododendron prinophyllum (Small) Millais   \n401767                                Scutellaria lateriflora L.   \n343522                          Erythronium americanum Ker Gawl.   \n397007                                    Pyrola elliptica Nutt.   \n402851          Ilex mucronata (L.) Powell, Savolainen & Andrews   \n372003                                Populus tremuloides Michx.   \n\n                tidinterpreted  ...   longitue geodeticDatum  \\\ncatalog_number                  ...                            \n401796                832028.0  ...        NaN           NaN   \n368660                860173.0  ...        NaN           NaN   \n396407                820149.0  ... -72.400380         WGS84   \n366639                824065.0  ... -71.807940         WGS84   \n397237                830853.0  ... -72.147660         WGS84   \n401767                832028.0  ...        NaN           NaN   \n343522                822935.0  ... -72.296010         WGS84   \n397007                830465.0  ...        NaN           NaN   \n402851                824827.0  ... -71.929680         WGS84   \n372003                830036.0  ... -71.673122           NaN   \n\n                coordinateUncertaintyInMeters  georeferenceProtocol  \\\ncatalog_number                                                        \n401796                                    NaN                   NaN   \n368660                                    NaN                   NaN   \n396407                                10475.0                   NaN   \n366639                                 8059.0                   NaN   \n397237                                 7399.0                   NaN   \n401767                                    NaN                   NaN   \n343522                                 7787.0                   NaN   \n397007                                    NaN                   NaN   \n402851                                 8380.0                   NaN   \n372003                                 4500.0                   NaN   \n\n                                              georeferenceRemarks  \\\ncatalog_number                                                      \n401796                                                        NaN   \n368660                                                        NaN   \n396407          Coordinates are for the centroid of the town p...   \n366639          Coordinates are for the centroid of the town p...   \n397237          Coordinates are for the centroid of the town p...   \n401767                                                        NaN   \n343522          Coordinates are for the centroid of the town p...   \n397007                                                        NaN   \n402851          Coordinates are for the centroid of the town p...   \n372003                                                        NaN   \n\n                                              georeferenceSources  \\\ncatalog_number                                                      \n401796                                                        NaN   \n368660                                                        NaN   \n396407          Community Boundaries (Towns) from Survey Point...   \n366639          Community Boundaries (Towns) from Survey Point...   \n397237          New Hampshire Political Boundaries at 1:24,000...   \n401767                                                        NaN   \n343522          New Hampshire Political Boundaries at 1:24,000...   \n397007                                                        NaN   \n402851          New Hampshire Political Boundaries at 1:24,000...   \n372003                                                        NaN   \n\n                                                              url  \\\ncatalog_number                                                      \n401796          https://bisque.cyverse.org/image_service/00-Ja...   \n368660          https://bisque.cyverse.org/image_service/00-zG...   \n396407          https://bisque.cyverse.org/image_service/00-fz...   \n366639          https://bisque.cyverse.org/image_service/00-fx...   \n397237          https://bisque.cyverse.org/image_service/00-pf...   \n401767          https://bisque.cyverse.org/image_service/00-tm...   \n343522          https://bisque.cyverse.org/image_service/00-3a...   \n397007          https://bisque.cyverse.org/image_service/00-mn...   \n402851          https://bisque.cyverse.org/image_service/00-N7...   \n372003          https://bisque.cyverse.org/image_service/00-9M...   \n\n               Flowering Prediction Flowering Prediction Confidence  \\\ncatalog_number                                                        \n401796                         True                        0.899062   \n368660                        False                        0.899759   \n396407                         True                        0.988956   \n366639                         True                        0.970578   \n397237                         True                        0.944556   \n401767                         True                        0.969296   \n343522                         True                        0.999959   \n397007                         True                        0.933706   \n402851                        False                        0.999005   \n372003                        False                        0.910007   \n\n                Flowering Ground Truth  \ncatalog_number                          \n401796                            True  \n368660                            True  \n396407                           False  \n366639                           False  \n397237                           False  \n401767                           False  \n343522                           False  \n397007                           False  \n402851                            True  \n372003                            True  \n\n[10 rows x 30 columns]",
      "text/html": "<div>\n<style scoped>\n    .dataframe tbody tr th:only-of-type {\n        vertical-align: middle;\n    }\n\n    .dataframe tbody tr th {\n        vertical-align: top;\n    }\n\n    .dataframe thead th {\n        text-align: right;\n    }\n</style>\n<table border=\"1\" class=\"dataframe\">\n  <thead>\n    <tr style=\"text-align: right;\">\n      <th></th>\n      <th>object_id</th>\n      <th>stateid</th>\n      <th>stateName</th>\n      <th>occid.1</th>\n      <th>occurrenceID</th>\n      <th>inst</th>\n      <th>collectionCode</th>\n      <th>family</th>\n      <th>sci_name</th>\n      <th>tidinterpreted</th>\n      <th>...</th>\n      <th>longitue</th>\n      <th>geodeticDatum</th>\n      <th>coordinateUncertaintyInMeters</th>\n      <th>georeferenceProtocol</th>\n      <th>georeferenceRemarks</th>\n      <th>georeferenceSources</th>\n      <th>url</th>\n      <th>Flowering Prediction</th>\n      <th>Flowering Prediction Confidence</th>\n      <th>Flowering Ground Truth</th>\n    </tr>\n    <tr>\n      <th>catalog_number</th>\n      <th></th>\n      <th></th>\n      <th></th>\n      <th></th>\n      <th></th>\n      <th></th>\n      <th></th>\n      <th></th>\n      <th></th>\n      <th></th>\n      <th></th>\n      <th></th>\n      <th></th>\n      <th></th>\n      <th></th>\n      <th></th>\n      <th></th>\n      <th></th>\n      <th></th>\n      <th></th>\n      <th></th>\n    </tr>\n  </thead>\n  <tbody>\n    <tr>\n      <th>401796</th>\n      <td>1988333</td>\n      <td>21</td>\n      <td>Reproductive</td>\n      <td>1988333</td>\n      <td>434a8b56-2bd7-4cbb-8405-26461dd04fbe</td>\n      <td>University of Massachusetts</td>\n      <td>MASS</td>\n      <td>Lamiaceae</td>\n      <td>Scutellaria lateriflora L.</td>\n      <td>832028.0</td>\n      <td>...</td>\n      <td>NaN</td>\n      <td>NaN</td>\n      <td>NaN</td>\n      <td>NaN</td>\n      <td>NaN</td>\n      <td>NaN</td>\n      <td>https://bisque.cyverse.org/image_service/00-Ja...</td>\n      <td>True</td>\n      <td>0.899062</td>\n      <td>True</td>\n    </tr>\n    <tr>\n      <th>368660</th>\n      <td>1988656</td>\n      <td>21</td>\n      <td>Reproductive</td>\n      <td>1988656</td>\n      <td>3170fe04-fcef-4476-ad0d-7099387dcb73</td>\n      <td>University of Massachusetts</td>\n      <td>MASS</td>\n      <td>Rosaceae</td>\n      <td>Aronia melanocarpa (Michx.) Elliot</td>\n      <td>860173.0</td>\n      <td>...</td>\n      <td>NaN</td>\n      <td>NaN</td>\n      <td>NaN</td>\n      <td>NaN</td>\n      <td>NaN</td>\n      <td>NaN</td>\n      <td>https://bisque.cyverse.org/image_service/00-zG...</td>\n      <td>False</td>\n      <td>0.899759</td>\n      <td>True</td>\n    </tr>\n    <tr>\n      <th>396407</th>\n      <td>1988690</td>\n      <td>21</td>\n      <td>Reproductive</td>\n      <td>1988690</td>\n      <td>3cf2b60f-467d-45eb-b533-acfa40e794c6</td>\n      <td>University of Massachusetts</td>\n      <td>MASS</td>\n      <td>Clethraceae</td>\n      <td>Clethra alnifolia L.</td>\n      <td>820149.0</td>\n      <td>...</td>\n      <td>-72.400380</td>\n      <td>WGS84</td>\n      <td>10475.0</td>\n      <td>NaN</td>\n      <td>Coordinates are for the centroid of the town p...</td>\n      <td>Community Boundaries (Towns) from Survey Point...</td>\n      <td>https://bisque.cyverse.org/image_service/00-fz...</td>\n      <td>True</td>\n      <td>0.988956</td>\n      <td>False</td>\n    </tr>\n    <tr>\n      <th>366639</th>\n      <td>1988761</td>\n      <td>21</td>\n      <td>Reproductive</td>\n      <td>1988761</td>\n      <td>1c28f9c9-de68-42f9-b816-470a8e6a4e97</td>\n      <td>University of Massachusetts</td>\n      <td>MASS</td>\n      <td>Hamamelidaceae</td>\n      <td>Hamamelis virginiana L.</td>\n      <td>824065.0</td>\n      <td>...</td>\n      <td>-71.807940</td>\n      <td>WGS84</td>\n      <td>8059.0</td>\n      <td>NaN</td>\n      <td>Coordinates are for the centroid of the town p...</td>\n      <td>Community Boundaries (Towns) from Survey Point...</td>\n      <td>https://bisque.cyverse.org/image_service/00-fx...</td>\n      <td>True</td>\n      <td>0.970578</td>\n      <td>False</td>\n    </tr>\n    <tr>\n      <th>397237</th>\n      <td>1988828</td>\n      <td>21</td>\n      <td>Reproductive</td>\n      <td>1988828</td>\n      <td>c7b821cd-8aa5-4e25-9492-8846a93383d1</td>\n      <td>University of Massachusetts</td>\n      <td>MASS</td>\n      <td>Ericaceae</td>\n      <td>Rhododendron prinophyllum (Small) Millais</td>\n      <td>830853.0</td>\n      <td>...</td>\n      <td>-72.147660</td>\n      <td>WGS84</td>\n      <td>7399.0</td>\n      <td>NaN</td>\n      <td>Coordinates are for the centroid of the town p...</td>\n      <td>New Hampshire Political Boundaries at 1:24,000...</td>\n      <td>https://bisque.cyverse.org/image_service/00-pf...</td>\n      <td>True</td>\n      <td>0.944556</td>\n      <td>False</td>\n    </tr>\n    <tr>\n      <th>401767</th>\n      <td>1988893</td>\n      <td>21</td>\n      <td>Reproductive</td>\n      <td>1988893</td>\n      <td>5e0bdc44-0a1b-4d4e-8243-fd1b219df7f2</td>\n      <td>University of Massachusetts</td>\n      <td>MASS</td>\n      <td>Lamiaceae</td>\n      <td>Scutellaria lateriflora L.</td>\n      <td>832028.0</td>\n      <td>...</td>\n      <td>NaN</td>\n      <td>NaN</td>\n      <td>NaN</td>\n      <td>NaN</td>\n      <td>NaN</td>\n      <td>NaN</td>\n      <td>https://bisque.cyverse.org/image_service/00-tm...</td>\n      <td>True</td>\n      <td>0.969296</td>\n      <td>False</td>\n    </tr>\n    <tr>\n      <th>343522</th>\n      <td>1988894</td>\n      <td>21</td>\n      <td>Reproductive</td>\n      <td>1988894</td>\n      <td>076cafe2-ee07-462f-8cc9-aee6e84be5c6</td>\n      <td>University of Massachusetts</td>\n      <td>MASS</td>\n      <td>Liliaceae</td>\n      <td>Erythronium americanum Ker Gawl.</td>\n      <td>822935.0</td>\n      <td>...</td>\n      <td>-72.296010</td>\n      <td>WGS84</td>\n      <td>7787.0</td>\n      <td>NaN</td>\n      <td>Coordinates are for the centroid of the town p...</td>\n      <td>New Hampshire Political Boundaries at 1:24,000...</td>\n      <td>https://bisque.cyverse.org/image_service/00-3a...</td>\n      <td>True</td>\n      <td>0.999959</td>\n      <td>False</td>\n    </tr>\n    <tr>\n      <th>397007</th>\n      <td>1989073</td>\n      <td>21</td>\n      <td>Reproductive</td>\n      <td>1989073</td>\n      <td>6f19a8d7-ad0e-4430-9524-d8b6e1fb1d4b</td>\n      <td>University of Massachusetts</td>\n      <td>MASS</td>\n      <td>Ericaceae</td>\n      <td>Pyrola elliptica Nutt.</td>\n      <td>830465.0</td>\n      <td>...</td>\n      <td>NaN</td>\n      <td>NaN</td>\n      <td>NaN</td>\n      <td>NaN</td>\n      <td>NaN</td>\n      <td>NaN</td>\n      <td>https://bisque.cyverse.org/image_service/00-mn...</td>\n      <td>True</td>\n      <td>0.933706</td>\n      <td>False</td>\n    </tr>\n    <tr>\n      <th>402851</th>\n      <td>1989096</td>\n      <td>21</td>\n      <td>Reproductive</td>\n      <td>1989096</td>\n      <td>19aecb2c-8b17-4ae8-add8-7e4df292bd5e</td>\n      <td>University of Massachusetts</td>\n      <td>MASS</td>\n      <td>Aquifoliaceae</td>\n      <td>Ilex mucronata (L.) Powell, Savolainen &amp; Andrews</td>\n      <td>824827.0</td>\n      <td>...</td>\n      <td>-71.929680</td>\n      <td>WGS84</td>\n      <td>8380.0</td>\n      <td>NaN</td>\n      <td>Coordinates are for the centroid of the town p...</td>\n      <td>New Hampshire Political Boundaries at 1:24,000...</td>\n      <td>https://bisque.cyverse.org/image_service/00-N7...</td>\n      <td>False</td>\n      <td>0.999005</td>\n      <td>True</td>\n    </tr>\n    <tr>\n      <th>372003</th>\n      <td>1989493</td>\n      <td>21</td>\n      <td>Reproductive</td>\n      <td>1989493</td>\n      <td>17246c3c-c3f9-4bd4-bc1c-7cc785206577</td>\n      <td>University of Massachusetts</td>\n      <td>MASS</td>\n      <td>Salicaceae</td>\n      <td>Populus tremuloides Michx.</td>\n      <td>830036.0</td>\n      <td>...</td>\n      <td>-71.673122</td>\n      <td>NaN</td>\n      <td>4500.0</td>\n      <td>NaN</td>\n      <td>NaN</td>\n      <td>NaN</td>\n      <td>https://bisque.cyverse.org/image_service/00-9M...</td>\n      <td>False</td>\n      <td>0.910007</td>\n      <td>True</td>\n    </tr>\n  </tbody>\n</table>\n<p>10 rows × 30 columns</p>\n</div>"
     },
     "metadata": {}
    },
    {
     "output_type": "stream",
     "name": "stdout",
     "text": [
      "Index(['556898', '556855', '556856', '556861', '104427', '556896', '556803',\n       '087575'],\n      dtype='object', name='retry_catalog_number')\n8\n"
     ]
    }
   ],
   "source": [
    "joined_df = dataset_test.merge_preds_gt(preds_df, gt_df)\n"
   ]
  },
  {
   "cell_type": "code",
   "execution_count": 140,
   "metadata": {},
   "outputs": [
    {
     "output_type": "display_data",
     "data": {
      "text/plain": "object_id                                                                    1999250\nstateid                                                                           21\nstateName                                                               Reproductive\noccid.1                                                                      1999250\noccurrenceID                                    fc206158-fdd1-11e2-8bb4-4e51ad6f2467\ninst                                                     University of Massachusetts\ncollectionCode                                                                  MASS\nfamily                                                                    Betulaceae\nsci_name                                                   Betula populifolia Marsh.\ntidinterpreted                                                         817893.000000\nevent_date                                                                 18/7/1934\nverbatimEventDate                                                                NaN\nyear                                                                     1934.000000\nstartDayOfYear                                                            199.000000\ncountry                                                     United States of America\nstate                                                                  Massachusetts\ncounty                                                                     Berkshire\nmunicipality                                                            Williamstown\nlocality                                                                         NaN\nlatitude                                                                   42.684760\nlongitue                                                                  -73.228330\ngeodeticDatum                                                                  WGS84\ncoordinateUncertaintyInMeters                                            8663.000000\ngeoreferenceProtocol                                                             NaN\ngeoreferenceRemarks                Coordinates are for the centroid of the town p...\ngeoreferenceSources                Community Boundaries (Towns) from Survey Point...\nurl                                https://bisque.cyverse.org/image_service/00-qV...\nFlowering Prediction                                                           False\nFlowering Prediction Confidence                                             0.999207\nFlowering Ground Truth                                                          True\nName: 00315740, dtype: object"
     },
     "metadata": {}
    }
   ],
   "source": [
    "# display(joined_df.loc['NEBC00583914'])\n",
    "# display(test_join.loc['barcode-583914'])\n",
    "display(dataset_test.master_df.loc['00315740'])"
   ]
  },
  {
   "cell_type": "code",
   "execution_count": null,
   "metadata": {},
   "outputs": [],
   "source": []
  },
  {
   "cell_type": "code",
   "execution_count": null,
   "metadata": {},
   "outputs": [],
   "source": []
  },
  {
   "cell_type": "code",
   "execution_count": 21,
   "metadata": {},
   "outputs": [
    {
     "output_type": "stream",
     "name": "stdout",
     "text": [
      "1, 2, 3, 4\n"
     ]
    }
   ],
   "source": [
    "test_dict = {}\n",
    "def hello_func(p1, p2, p3, p4):\n",
    "    print(f\"{p1}, {p2}, {p3}, {p4}\")\n",
    "\n",
    "hello_func(1,2,3,4)"
   ]
  },
  {
   "cell_type": "code",
   "execution_count": 23,
   "metadata": {},
   "outputs": [
    {
     "output_type": "display_data",
     "data": {
      "text/plain": "     A  B\n0  0.1  1\n1  0.2  2\n2  0.3  3\n3  0.4  4\n4  0.5  5\n5  0.6  6",
      "text/html": "<div>\n<style scoped>\n    .dataframe tbody tr th:only-of-type {\n        vertical-align: middle;\n    }\n\n    .dataframe tbody tr th {\n        vertical-align: top;\n    }\n\n    .dataframe thead th {\n        text-align: right;\n    }\n</style>\n<table border=\"1\" class=\"dataframe\">\n  <thead>\n    <tr style=\"text-align: right;\">\n      <th></th>\n      <th>A</th>\n      <th>B</th>\n    </tr>\n  </thead>\n  <tbody>\n    <tr>\n      <th>0</th>\n      <td>0.1</td>\n      <td>1</td>\n    </tr>\n    <tr>\n      <th>1</th>\n      <td>0.2</td>\n      <td>2</td>\n    </tr>\n    <tr>\n      <th>2</th>\n      <td>0.3</td>\n      <td>3</td>\n    </tr>\n    <tr>\n      <th>3</th>\n      <td>0.4</td>\n      <td>4</td>\n    </tr>\n    <tr>\n      <th>4</th>\n      <td>0.5</td>\n      <td>5</td>\n    </tr>\n    <tr>\n      <th>5</th>\n      <td>0.6</td>\n      <td>6</td>\n    </tr>\n  </tbody>\n</table>\n</div>"
     },
     "metadata": {}
    }
   ],
   "source": [
    "test_df = pd.DataFrame({\"A\": [0.1, 0.2, 0.3, 0.4, 0.5, 0.6], \"B\":\n",
    "np.arange(1,7)})\n",
    "display(test_df)"
   ]
  },
  {
   "cell_type": "code",
   "execution_count": 30,
   "metadata": {},
   "outputs": [
    {
     "output_type": "display_data",
     "data": {
      "text/plain": "0    False\n1    False\n2     True\n3     True\n4     True\n5     True\nName: A, dtype: bool"
     },
     "metadata": {}
    },
    {
     "output_type": "display_data",
     "data": {
      "text/plain": "0     True\n1     True\n2     True\n3     True\n4    False\n5    False\nName: B, dtype: bool"
     },
     "metadata": {}
    },
    {
     "output_type": "display_data",
     "data": {
      "text/plain": "0    False\n1    False\n2     True\n3     True\n4    False\n5    False\ndtype: bool"
     },
     "metadata": {}
    }
   ],
   "source": [
    "mask1 = test_df['A'] > 0.2\n",
    "mask2 =  test_df['B'] < 5\n",
    "display(mask1)\n",
    "display(mask2)\n",
    "display(mask1 & mask2)"
   ]
  },
  {
   "cell_type": "code",
   "execution_count": 34,
   "metadata": {},
   "outputs": [
    {
     "output_type": "display_data",
     "data": {
      "text/plain": "0    True\n1    True\n2    True\n3    True\n4    True\n5    True\ndtype: bool"
     },
     "metadata": {}
    }
   ],
   "source": [
    "mask1 = test_df['A'] > 0.2\n",
    "mask1 = mask1 & test_df['B'] < 5\n",
    "display(mask1)"
   ]
  },
  {
   "cell_type": "code",
   "execution_count": null,
   "metadata": {},
   "outputs": [],
   "source": []
  }
 ],
 "metadata": {
  "kernelspec": {
   "display_name": "Python 3",
   "language": "python",
   "name": "python3"
  },
  "language_info": {
   "codemirror_mode": {
    "name": "ipython",
    "version": 3
   },
   "file_extension": ".py",
   "mimetype": "text/x-python",
   "name": "python",
   "nbconvert_exporter": "python",
   "pygments_lexer": "ipython3",
   "version": "3.8.0-final"
  }
 },
 "nbformat": 4,
 "nbformat_minor": 4
}